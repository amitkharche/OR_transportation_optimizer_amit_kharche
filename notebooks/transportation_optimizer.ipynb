{
 "cells": [
  {
   "cell_type": "markdown",
   "id": "94e2d683",
   "metadata": {},
   "source": [
    "# 🚛 Transportation Problem Optimizer\n",
    "This notebook implements the complete workflow for solving the Transportation Problem using Linear Programming (via PuLP), as implemented in `optimizer.py` and exposed through the Streamlit app.\n",
    "\n",
    "### Covered Steps:\n",
    "- Data Loading\n",
    "- EDA\n",
    "- Data Cleaning & Validation\n",
    "- Model Definition (Linear Programming)\n",
    "- Result Summary & Cost\n",
    "- Save Optimized Plan"
   ]
  },
  {
   "cell_type": "code",
   "execution_count": 2,
   "id": "abf3b909",
   "metadata": {},
   "outputs": [
    {
     "name": "stdout",
     "output_type": "stream",
     "text": [
      "Collecting pulp\n",
      "  Obtaining dependency information for pulp from https://files.pythonhosted.org/packages/84/45/2bb878df73b5545405faff0b0b30f72929222356387a41b50ca268951d5d/pulp-3.2.1-py3-none-any.whl.metadata\n",
      "  Downloading pulp-3.2.1-py3-none-any.whl.metadata (6.9 kB)\n",
      "Downloading pulp-3.2.1-py3-none-any.whl (16.4 MB)\n",
      "   ---------------------------------------- 0.0/16.4 MB ? eta -:--:--\n",
      "   - -------------------------------------- 0.4/16.4 MB 8.7 MB/s eta 0:00:02\n",
      "   - -------------------------------------- 0.8/16.4 MB 8.1 MB/s eta 0:00:02\n",
      "   --- ------------------------------------ 1.4/16.4 MB 9.9 MB/s eta 0:00:02\n",
      "   --- ------------------------------------ 1.6/16.4 MB 9.0 MB/s eta 0:00:02\n",
      "   ----- ---------------------------------- 2.3/16.4 MB 9.9 MB/s eta 0:00:02\n",
      "   ------ --------------------------------- 2.8/16.4 MB 9.9 MB/s eta 0:00:02\n",
      "   ------- -------------------------------- 3.2/16.4 MB 9.8 MB/s eta 0:00:02\n",
      "   --------- ------------------------------ 3.7/16.4 MB 9.8 MB/s eta 0:00:02\n",
      "   ---------- ----------------------------- 4.2/16.4 MB 9.8 MB/s eta 0:00:02\n",
      "   ----------- ---------------------------- 4.6/16.4 MB 9.5 MB/s eta 0:00:02\n",
      "   ------------ --------------------------- 5.1/16.4 MB 9.8 MB/s eta 0:00:02\n",
      "   ------------- -------------------------- 5.5/16.4 MB 9.8 MB/s eta 0:00:02\n",
      "   -------------- ------------------------- 6.0/16.4 MB 9.6 MB/s eta 0:00:02\n",
      "   --------------- ------------------------ 6.5/16.4 MB 9.8 MB/s eta 0:00:02\n",
      "   ---------------- ----------------------- 6.9/16.4 MB 9.8 MB/s eta 0:00:01\n",
      "   ------------------ --------------------- 7.4/16.4 MB 9.8 MB/s eta 0:00:01\n",
      "   ------------------- -------------------- 7.8/16.4 MB 9.6 MB/s eta 0:00:01\n",
      "   -------------------- ------------------- 8.3/16.4 MB 9.8 MB/s eta 0:00:01\n",
      "   --------------------- ------------------ 8.7/16.4 MB 9.6 MB/s eta 0:00:01\n",
      "   ---------------------- ----------------- 9.2/16.4 MB 9.8 MB/s eta 0:00:01\n",
      "   ----------------------- ---------------- 9.6/16.4 MB 9.6 MB/s eta 0:00:01\n",
      "   ------------------------ --------------- 10.1/16.4 MB 9.8 MB/s eta 0:00:01\n",
      "   ------------------------- -------------- 10.5/16.4 MB 9.8 MB/s eta 0:00:01\n",
      "   -------------------------- ------------- 11.0/16.4 MB 9.9 MB/s eta 0:00:01\n",
      "   ---------------------------- ----------- 11.5/16.4 MB 9.8 MB/s eta 0:00:01\n",
      "   ----------------------------- ---------- 11.9/16.4 MB 9.9 MB/s eta 0:00:01\n",
      "   ------------------------------ --------- 12.4/16.4 MB 9.8 MB/s eta 0:00:01\n",
      "   ------------------------------- -------- 12.9/16.4 MB 9.6 MB/s eta 0:00:01\n",
      "   -------------------------------- ------- 13.3/16.4 MB 9.6 MB/s eta 0:00:01\n",
      "   --------------------------------- ------ 13.8/16.4 MB 9.6 MB/s eta 0:00:01\n",
      "   ---------------------------------- ----- 14.2/16.4 MB 9.6 MB/s eta 0:00:01\n",
      "   ----------------------------------- ---- 14.7/16.4 MB 9.6 MB/s eta 0:00:01\n",
      "   ------------------------------------ --- 14.8/16.4 MB 9.6 MB/s eta 0:00:01\n",
      "   ------------------------------------- -- 15.3/16.4 MB 9.5 MB/s eta 0:00:01\n",
      "   -------------------------------------- - 15.8/16.4 MB 9.5 MB/s eta 0:00:01\n",
      "   ---------------------------------------  16.2/16.4 MB 9.4 MB/s eta 0:00:01\n",
      "   ---------------------------------------  16.4/16.4 MB 9.4 MB/s eta 0:00:01\n",
      "   ---------------------------------------- 16.4/16.4 MB 9.0 MB/s eta 0:00:00\n",
      "Installing collected packages: pulp\n",
      "Successfully installed pulp-3.2.1\n"
     ]
    }
   ],
   "source": [
    "!pip install pulp"
   ]
  },
  {
   "cell_type": "code",
   "execution_count": 3,
   "id": "85e12296",
   "metadata": {},
   "outputs": [],
   "source": [
    "import pandas as pd\n",
    "import numpy as np\n",
    "import matplotlib.pyplot as plt\n",
    "import seaborn as sns\n",
    "import pulp"
   ]
  },
  {
   "cell_type": "markdown",
   "id": "d046143d",
   "metadata": {},
   "source": [
    "## Step 1: Load Cost, Supply, and Demand Data"
   ]
  },
  {
   "cell_type": "code",
   "execution_count": 4,
   "id": "25375f4a",
   "metadata": {},
   "outputs": [
    {
     "data": {
      "text/html": [
       "<div>\n",
       "<style scoped>\n",
       "    .dataframe tbody tr th:only-of-type {\n",
       "        vertical-align: middle;\n",
       "    }\n",
       "\n",
       "    .dataframe tbody tr th {\n",
       "        vertical-align: top;\n",
       "    }\n",
       "\n",
       "    .dataframe thead th {\n",
       "        text-align: right;\n",
       "    }\n",
       "</style>\n",
       "<table border=\"1\" class=\"dataframe\">\n",
       "  <thead>\n",
       "    <tr style=\"text-align: right;\">\n",
       "      <th></th>\n",
       "      <th>Store_A</th>\n",
       "      <th>Store_B</th>\n",
       "      <th>Store_C</th>\n",
       "    </tr>\n",
       "  </thead>\n",
       "  <tbody>\n",
       "    <tr>\n",
       "      <th>Warehouse_1</th>\n",
       "      <td>2</td>\n",
       "      <td>5</td>\n",
       "      <td>5</td>\n",
       "    </tr>\n",
       "    <tr>\n",
       "      <th>Warehouse_2</th>\n",
       "      <td>3</td>\n",
       "      <td>4</td>\n",
       "      <td>6</td>\n",
       "    </tr>\n",
       "    <tr>\n",
       "      <th>Warehouse_3</th>\n",
       "      <td>1</td>\n",
       "      <td>8</td>\n",
       "      <td>8</td>\n",
       "    </tr>\n",
       "    <tr>\n",
       "      <th>Warehouse_4</th>\n",
       "      <td>4</td>\n",
       "      <td>6</td>\n",
       "      <td>2</td>\n",
       "    </tr>\n",
       "    <tr>\n",
       "      <th>Warehouse_5</th>\n",
       "      <td>5</td>\n",
       "      <td>7</td>\n",
       "      <td>3</td>\n",
       "    </tr>\n",
       "  </tbody>\n",
       "</table>\n",
       "</div>"
      ],
      "text/plain": [
       "             Store_A  Store_B  Store_C\n",
       "Warehouse_1        2        5        5\n",
       "Warehouse_2        3        4        6\n",
       "Warehouse_3        1        8        8\n",
       "Warehouse_4        4        6        2\n",
       "Warehouse_5        5        7        3"
      ]
     },
     "execution_count": 4,
     "metadata": {},
     "output_type": "execute_result"
    }
   ],
   "source": [
    "# File paths\n",
    "cost_path = '../data/raw/cost_matrix.csv'\n",
    "supply_path = '../data/raw/supply.csv'\n",
    "demand_path = '../data/raw/demand.csv'\n",
    "\n",
    "# Load data\n",
    "cost_df = pd.read_csv(cost_path, index_col=0)\n",
    "supply = pd.read_csv(supply_path, index_col=0).squeeze()\n",
    "demand = pd.read_csv(demand_path, index_col=0).squeeze()\n",
    "\n",
    "cost_df.head()"
   ]
  },
  {
   "cell_type": "markdown",
   "id": "e6416ed9",
   "metadata": {},
   "source": [
    "## Step 2: Exploratory Data Analysis"
   ]
  },
  {
   "cell_type": "code",
   "execution_count": 5,
   "id": "821978e7",
   "metadata": {},
   "outputs": [
    {
     "data": {
      "text/html": [
       "<div>\n",
       "<style scoped>\n",
       "    .dataframe tbody tr th:only-of-type {\n",
       "        vertical-align: middle;\n",
       "    }\n",
       "\n",
       "    .dataframe tbody tr th {\n",
       "        vertical-align: top;\n",
       "    }\n",
       "\n",
       "    .dataframe thead th {\n",
       "        text-align: right;\n",
       "    }\n",
       "</style>\n",
       "<table border=\"1\" class=\"dataframe\">\n",
       "  <thead>\n",
       "    <tr style=\"text-align: right;\">\n",
       "      <th></th>\n",
       "      <th>Store_A</th>\n",
       "      <th>Store_B</th>\n",
       "      <th>Store_C</th>\n",
       "    </tr>\n",
       "  </thead>\n",
       "  <tbody>\n",
       "    <tr>\n",
       "      <th>count</th>\n",
       "      <td>10.000000</td>\n",
       "      <td>10.000000</td>\n",
       "      <td>10.000000</td>\n",
       "    </tr>\n",
       "    <tr>\n",
       "      <th>mean</th>\n",
       "      <td>4.100000</td>\n",
       "      <td>5.000000</td>\n",
       "      <td>5.400000</td>\n",
       "    </tr>\n",
       "    <tr>\n",
       "      <th>std</th>\n",
       "      <td>2.330951</td>\n",
       "      <td>2.581989</td>\n",
       "      <td>2.716207</td>\n",
       "    </tr>\n",
       "    <tr>\n",
       "      <th>min</th>\n",
       "      <td>1.000000</td>\n",
       "      <td>1.000000</td>\n",
       "      <td>1.000000</td>\n",
       "    </tr>\n",
       "    <tr>\n",
       "      <th>25%</th>\n",
       "      <td>2.250000</td>\n",
       "      <td>3.250000</td>\n",
       "      <td>3.500000</td>\n",
       "    </tr>\n",
       "    <tr>\n",
       "      <th>50%</th>\n",
       "      <td>3.500000</td>\n",
       "      <td>5.000000</td>\n",
       "      <td>5.500000</td>\n",
       "    </tr>\n",
       "    <tr>\n",
       "      <th>75%</th>\n",
       "      <td>5.750000</td>\n",
       "      <td>6.750000</td>\n",
       "      <td>7.750000</td>\n",
       "    </tr>\n",
       "    <tr>\n",
       "      <th>max</th>\n",
       "      <td>8.000000</td>\n",
       "      <td>9.000000</td>\n",
       "      <td>9.000000</td>\n",
       "    </tr>\n",
       "  </tbody>\n",
       "</table>\n",
       "</div>"
      ],
      "text/plain": [
       "         Store_A    Store_B    Store_C\n",
       "count  10.000000  10.000000  10.000000\n",
       "mean    4.100000   5.000000   5.400000\n",
       "std     2.330951   2.581989   2.716207\n",
       "min     1.000000   1.000000   1.000000\n",
       "25%     2.250000   3.250000   3.500000\n",
       "50%     3.500000   5.000000   5.500000\n",
       "75%     5.750000   6.750000   7.750000\n",
       "max     8.000000   9.000000   9.000000"
      ]
     },
     "metadata": {},
     "output_type": "display_data"
    },
    {
     "data": {
      "text/plain": [
       "count     10.000000\n",
       "mean     135.000000\n",
       "std       30.276504\n",
       "min       90.000000\n",
       "25%      112.500000\n",
       "50%      135.000000\n",
       "75%      157.500000\n",
       "max      180.000000\n",
       "Name: 0, dtype: float64"
      ]
     },
     "metadata": {},
     "output_type": "display_data"
    },
    {
     "data": {
      "text/plain": [
       "count      9.000000\n",
       "mean     132.222222\n",
       "std       31.928740\n",
       "min      100.000000\n",
       "25%      110.000000\n",
       "50%      120.000000\n",
       "75%      150.000000\n",
       "max      200.000000\n",
       "Name: 0, dtype: float64"
      ]
     },
     "metadata": {},
     "output_type": "display_data"
    }
   ],
   "source": [
    "# Basic stats\n",
    "display(cost_df.describe())\n",
    "display(supply.describe())\n",
    "display(demand.describe())"
   ]
  },
  {
   "cell_type": "code",
   "execution_count": 6,
   "id": "3dbed537",
   "metadata": {},
   "outputs": [
    {
     "data": {
      "image/png": "[encoded data removed]",
      "text/plain": [
       "<Figure size 1000x600 with 2 Axes>"
      ]
     },
     "metadata": {},
     "output_type": "display_data"
    }
   ],
   "source": [
    "# Heatmap of cost matrix\n",
    "plt.figure(figsize=(10, 6))\n",
    "sns.heatmap(cost_df, annot=True, fmt='.0f', cmap='Blues')\n",
    "plt.title('Cost Matrix')\n",
    "plt.show()"
   ]
  },
  {
   "cell_type": "markdown",
   "id": "f1378417",
   "metadata": {},
   "source": [
    "## Step 3: Data Cleaning & Preprocessing"
   ]
  },
  {
   "cell_type": "code",
   "execution_count": 7,
   "id": "06841baa",
   "metadata": {},
   "outputs": [
    {
     "data": {
      "text/plain": [
       "Store_A    0\n",
       "Store_B    0\n",
       "Store_C    0\n",
       "dtype: int64"
      ]
     },
     "metadata": {},
     "output_type": "display_data"
    },
    {
     "data": {
      "text/plain": [
       "0"
      ]
     },
     "metadata": {},
     "output_type": "display_data"
    },
    {
     "data": {
      "text/plain": [
       "0"
      ]
     },
     "metadata": {},
     "output_type": "display_data"
    }
   ],
   "source": [
    "# Check for missing values\n",
    "display(cost_df.isnull().sum())\n",
    "display(supply.isnull().sum())\n",
    "display(demand.isnull().sum())\n",
    "\n",
    "# Fill or drop nulls if necessary\n",
    "cost_df.fillna(0, inplace=True)"
   ]
  },
  {
   "cell_type": "markdown",
   "id": "10791dd3",
   "metadata": {},
   "source": [
    "## Step 4: Solve Transportation Problem using Linear Programming"
   ]
  },
  {
   "cell_type": "code",
   "execution_count": 8,
   "id": "f3c71d20",
   "metadata": {},
   "outputs": [
    {
     "data": {
      "text/html": [
       "<div>\n",
       "<style scoped>\n",
       "    .dataframe tbody tr th:only-of-type {\n",
       "        vertical-align: middle;\n",
       "    }\n",
       "\n",
       "    .dataframe tbody tr th {\n",
       "        vertical-align: top;\n",
       "    }\n",
       "\n",
       "    .dataframe thead th {\n",
       "        text-align: right;\n",
       "    }\n",
       "</style>\n",
       "<table border=\"1\" class=\"dataframe\">\n",
       "  <thead>\n",
       "    <tr style=\"text-align: right;\">\n",
       "      <th></th>\n",
       "      <th>Store_A</th>\n",
       "      <th>Store_B</th>\n",
       "      <th>Store_C</th>\n",
       "    </tr>\n",
       "  </thead>\n",
       "  <tbody>\n",
       "    <tr>\n",
       "      <th>Warehouse_1</th>\n",
       "      <td>50.0</td>\n",
       "      <td>0.0</td>\n",
       "      <td>0.0</td>\n",
       "    </tr>\n",
       "    <tr>\n",
       "      <th>Warehouse_2</th>\n",
       "      <td>0.0</td>\n",
       "      <td>0.0</td>\n",
       "      <td>0.0</td>\n",
       "    </tr>\n",
       "    <tr>\n",
       "      <th>Warehouse_3</th>\n",
       "      <td>100.0</td>\n",
       "      <td>0.0</td>\n",
       "      <td>0.0</td>\n",
       "    </tr>\n",
       "    <tr>\n",
       "      <th>Warehouse_4</th>\n",
       "      <td>0.0</td>\n",
       "      <td>0.0</td>\n",
       "      <td>20.0</td>\n",
       "    </tr>\n",
       "    <tr>\n",
       "      <th>Warehouse_5</th>\n",
       "      <td>0.0</td>\n",
       "      <td>0.0</td>\n",
       "      <td>0.0</td>\n",
       "    </tr>\n",
       "  </tbody>\n",
       "</table>\n",
       "</div>"
      ],
      "text/plain": [
       "             Store_A  Store_B  Store_C\n",
       "Warehouse_1     50.0      0.0      0.0\n",
       "Warehouse_2      0.0      0.0      0.0\n",
       "Warehouse_3    100.0      0.0      0.0\n",
       "Warehouse_4      0.0      0.0     20.0\n",
       "Warehouse_5      0.0      0.0      0.0"
      ]
     },
     "execution_count": 8,
     "metadata": {},
     "output_type": "execute_result"
    }
   ],
   "source": [
    "def solve_transportation_problem(cost_df, supply, demand):\n",
    "    warehouses = cost_df.index\n",
    "    stores = cost_df.columns\n",
    "\n",
    "    prob = pulp.LpProblem(\"Transportation_Problem\", pulp.LpMinimize)\n",
    "    x = pulp.LpVariable.dicts(\"route\", (warehouses, stores), lowBound=0, cat=\"Continuous\")\n",
    "\n",
    "    # Objective function\n",
    "    prob += pulp.lpSum(cost_df.loc[w][s] * x[w][s] for w in warehouses for s in stores)\n",
    "\n",
    "    # Supply constraints\n",
    "    for w in warehouses:\n",
    "        prob += pulp.lpSum(x[w][s] for s in stores) <= supply[w], f\"Supply_{w}\"\n",
    "\n",
    "    # Demand constraints\n",
    "    for s in stores:\n",
    "        prob += pulp.lpSum(x[w][s] for w in warehouses) >= demand[s], f\"Demand_{s}\"\n",
    "\n",
    "    prob.solve()\n",
    "\n",
    "    result = pd.DataFrame(index=warehouses, columns=stores)\n",
    "    for w in warehouses:\n",
    "        for s in stores:\n",
    "            result.loc[w, s] = x[w][s].varValue\n",
    "\n",
    "    total_cost = pulp.value(prob.objective)\n",
    "    return result.fillna(0), total_cost\n",
    "\n",
    "result_df, total_cost = solve_transportation_problem(cost_df, supply, demand)\n",
    "result_df.head()"
   ]
  },
  {
   "cell_type": "markdown",
   "id": "c397eaf5",
   "metadata": {},
   "source": [
    "## Step 5: Validate and Interpret Results"
   ]
  },
  {
   "cell_type": "code",
   "execution_count": 9,
   "id": "9b75727c",
   "metadata": {},
   "outputs": [
    {
     "name": "stdout",
     "output_type": "stream",
     "text": [
      "Total Transportation Cost: 470.00\n"
     ]
    },
    {
     "data": {
      "text/html": [
       "<div>\n",
       "<style scoped>\n",
       "    .dataframe tbody tr th:only-of-type {\n",
       "        vertical-align: middle;\n",
       "    }\n",
       "\n",
       "    .dataframe tbody tr th {\n",
       "        vertical-align: top;\n",
       "    }\n",
       "\n",
       "    .dataframe thead th {\n",
       "        text-align: right;\n",
       "    }\n",
       "</style>\n",
       "<table border=\"1\" class=\"dataframe\">\n",
       "  <thead>\n",
       "    <tr style=\"text-align: right;\">\n",
       "      <th></th>\n",
       "      <th>Store_A</th>\n",
       "      <th>Store_B</th>\n",
       "      <th>Store_C</th>\n",
       "    </tr>\n",
       "  </thead>\n",
       "  <tbody>\n",
       "    <tr>\n",
       "      <th>Warehouse_1</th>\n",
       "      <td>50.0</td>\n",
       "      <td>0.0</td>\n",
       "      <td>0.0</td>\n",
       "    </tr>\n",
       "    <tr>\n",
       "      <th>Warehouse_2</th>\n",
       "      <td>0.0</td>\n",
       "      <td>0.0</td>\n",
       "      <td>0.0</td>\n",
       "    </tr>\n",
       "    <tr>\n",
       "      <th>Warehouse_3</th>\n",
       "      <td>100.0</td>\n",
       "      <td>0.0</td>\n",
       "      <td>0.0</td>\n",
       "    </tr>\n",
       "    <tr>\n",
       "      <th>Warehouse_4</th>\n",
       "      <td>0.0</td>\n",
       "      <td>0.0</td>\n",
       "      <td>20.0</td>\n",
       "    </tr>\n",
       "    <tr>\n",
       "      <th>Warehouse_5</th>\n",
       "      <td>0.0</td>\n",
       "      <td>0.0</td>\n",
       "      <td>0.0</td>\n",
       "    </tr>\n",
       "    <tr>\n",
       "      <th>Warehouse_6</th>\n",
       "      <td>0.0</td>\n",
       "      <td>0.0</td>\n",
       "      <td>130.0</td>\n",
       "    </tr>\n",
       "    <tr>\n",
       "      <th>Warehouse_7</th>\n",
       "      <td>0.0</td>\n",
       "      <td>0.0</td>\n",
       "      <td>0.0</td>\n",
       "    </tr>\n",
       "    <tr>\n",
       "      <th>Warehouse_8</th>\n",
       "      <td>0.0</td>\n",
       "      <td>0.0</td>\n",
       "      <td>0.0</td>\n",
       "    </tr>\n",
       "    <tr>\n",
       "      <th>Warehouse_9</th>\n",
       "      <td>0.0</td>\n",
       "      <td>100.0</td>\n",
       "      <td>0.0</td>\n",
       "    </tr>\n",
       "    <tr>\n",
       "      <th>Warehouse_10</th>\n",
       "      <td>0.0</td>\n",
       "      <td>0.0</td>\n",
       "      <td>0.0</td>\n",
       "    </tr>\n",
       "  </tbody>\n",
       "</table>\n",
       "</div>"
      ],
      "text/plain": [
       "              Store_A  Store_B  Store_C\n",
       "Warehouse_1      50.0      0.0      0.0\n",
       "Warehouse_2       0.0      0.0      0.0\n",
       "Warehouse_3     100.0      0.0      0.0\n",
       "Warehouse_4       0.0      0.0     20.0\n",
       "Warehouse_5       0.0      0.0      0.0\n",
       "Warehouse_6       0.0      0.0    130.0\n",
       "Warehouse_7       0.0      0.0      0.0\n",
       "Warehouse_8       0.0      0.0      0.0\n",
       "Warehouse_9       0.0    100.0      0.0\n",
       "Warehouse_10      0.0      0.0      0.0"
      ]
     },
     "metadata": {},
     "output_type": "display_data"
    }
   ],
   "source": [
    "print(f\"Total Transportation Cost: {total_cost:.2f}\")\n",
    "display(result_df)"
   ]
  },
  {
   "cell_type": "markdown",
   "id": "a3a8e1ae",
   "metadata": {},
   "source": [
    "## Step 6: Save Optimized Transportation Plan"
   ]
  },
  {
   "cell_type": "code",
   "execution_count": 11,
   "id": "93c80b75",
   "metadata": {},
   "outputs": [
    {
     "name": "stdout",
     "output_type": "stream",
     "text": [
      "Saved to ../data/processed/transport_plan.csv\n"
     ]
    }
   ],
   "source": [
    "import os\n",
    "output_path = '../data/processed/transport_plan.csv'\n",
    "os.makedirs(os.path.dirname(output_path), exist_ok=True)\n",
    "result_df.to_csv(output_path)\n",
    "print(f\"Saved to {output_path}\")"
   ]
  },
  {
   "cell_type": "code",
   "execution_count": null,
   "id": "02fec112",
   "metadata": {},
   "outputs": [],
   "source": []
  }
 ],
 "metadata": {
  "kernelspec": {
   "display_name": "Python 3 (ipykernel)",
   "language": "python",
   "name": "python3"
  },
  "language_info": {
   "codemirror_mode": {
    "name": "ipython",
    "version": 3
   },
   "file_extension": ".py",
   "mimetype": "text/x-python",
   "name": "python",
   "nbconvert_exporter": "python",
   "pygments_lexer": "ipython3",
   "version": "3.11.4"
  }
 },
 "nbformat": 4,
 "nbformat_minor": 5
}
